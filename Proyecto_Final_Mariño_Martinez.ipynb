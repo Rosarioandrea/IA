{
  "nbformat": 4,
  "nbformat_minor": 0,
  "metadata": {
    "colab": {
      "provenance": [],
      "include_colab_link": true
    },
    "kernelspec": {
      "name": "python3",
      "display_name": "Python 3"
    },
    "language_info": {
      "name": "python"
    }
  },
  "cells": [
    {
      "cell_type": "markdown",
      "metadata": {
        "id": "view-in-github",
        "colab_type": "text"
      },
      "source": [
        "<a href=\"https://colab.research.google.com/github/Rosarioandrea/IA/blob/main/Proyecto_Final_Mari%C3%B1o_Martinez.ipynb\" target=\"_parent\"><img src=\"https://colab.research.google.com/assets/colab-badge.svg\" alt=\"Open In Colab\"/></a>"
      ]
    },
    {
      "cell_type": "markdown",
      "source": [
        "# **Trabajo Final: Generación Automática de Ideas y Recursos Visuales para Escritores usando OpenAI GPT-4 y DALL-E**"
      ],
      "metadata": {
        "id": "ylF_F5Mlm7vA"
      }
    },
    {
      "cell_type": "markdown",
      "source": [
        "# **Resumen**"
      ],
      "metadata": {
        "id": "gOk1JU09nMYa"
      }
    },
    {
      "cell_type": "markdown",
      "source": [
        "El objetivo de este proyecto es desarrollar un sistema que ayude a los escritores a superar bloqueos creativos generando automáticamente ideas frescas y originales, así como ilustraciones complementarias para enriquecer sus textos. Utilizaremos la API de OpenAI para GPT-4 para generar narrativas y la API de DALL-E para crear imágenes basadas en esas descripciones."
      ],
      "metadata": {
        "id": "GkNGnFX3nQvs"
      }
    },
    {
      "cell_type": "markdown",
      "source": [
        "# **Indice**"
      ],
      "metadata": {
        "id": "ael-UtA5nhfn"
      }
    },
    {
      "cell_type": "markdown",
      "source": [
        "1. Introducción\n",
        "2. Objetivos\n",
        "3. Metodología\n",
        "4. Herramientas y Tecnologías\n",
        "5. Implementación\n",
        "6. Recopilación de Datos\n",
        "7. Generación de Historias\n",
        "8. Generación de Ilustraciones\n",
        "9. Evaluación y Refinamiento\n",
        "10. Resultados\n",
        "11. Conclusiones\n",
        "12. Referencias"
      ],
      "metadata": {
        "id": "VnB-262VntEw"
      }
    },
    {
      "cell_type": "markdown",
      "source": [
        "# **1. Introducción**"
      ],
      "metadata": {
        "id": "kjVhqaPZn9No"
      }
    },
    {
      "cell_type": "markdown",
      "source": [
        "Los escritores a menudo enfrentan bloqueos creativos y dificultades para encontrar ideas frescas y originales. Esto puede ralentizar el proceso de escritura y disminuir la productividad. Además, muchos buscan ilustraciones para acompañar sus textos, pero no siempre tienen acceso a recursos artísticos de calidad. Este proyecto aborda estas problemáticas proporcionando una herramienta que genera tanto ideas narrativas como ilustraciones, utilizando modelos avanzados de inteligencia artificial como GPT-4 y DALL-E.\n",
        "\n"
      ],
      "metadata": {
        "id": "3maetY-boAwo"
      }
    },
    {
      "cell_type": "markdown",
      "source": [
        "# 2. **Objetivos**"
      ],
      "metadata": {
        "id": "iZLNrit3oEC2"
      }
    },
    {
      "cell_type": "markdown",
      "source": [
        "* Generar ideas narrativas originales basadas en las preferencias del escritor.\n",
        "* Proporcionar ilustraciones visuales que complementen las historias generadas.\n",
        "* Superar los bloqueos creativos y mejorar la productividad de los escritores mediante herramientas de IA.\n",
        "\n",
        "\n"
      ],
      "metadata": {
        "id": "Fxy8TSaDoHBi"
      }
    },
    {
      "cell_type": "markdown",
      "source": [
        "# **3. Metodología**"
      ],
      "metadata": {
        "id": "GtASDpEWohlv"
      }
    },
    {
      "cell_type": "markdown",
      "source": [
        "El proyecto se desarrolla en varias etapas:\n",
        "\n",
        "1. **Recopilación de Datos:** Los usuarios proporcionan información sobre sus preferencias de género, tema y estilo.\n",
        "2. **Generación de Historias:** Utilización de GPT-4 para crear narrativas basadas en las especificaciones del usuario.\n",
        "3. **Generación de Ilustraciones**: Utilización de DALL-E para crear imágenes que complementen las historias generadas.\n",
        "4. E**valuación y Refinamiento:** Ajuste de las historias e imágenes generadas para asegurar su relevancia y coherencia."
      ],
      "metadata": {
        "id": "GcZM2W3Lok1T"
      }
    },
    {
      "cell_type": "markdown",
      "source": [
        "# **4. Herramientas y Tecnologías**"
      ],
      "metadata": {
        "id": "GNGPi0HHot2P"
      }
    },
    {
      "cell_type": "markdown",
      "source": [
        "* **Python:** Para la interacción con las APIs de OpenAI y gestión del flujo\n",
        "de trabajo.\n",
        "* **OpenAI GPT-4 API:** Para la generación de ideas narrativas.\n",
        "* **OpenAI DALL-E API:** Para la creación de ilustraciones basadas en texto.\n",
        "* **Frameworks Web:** React para el frontend y Node.js para el backend, facilitando la implementación de la interfaz de usuario."
      ],
      "metadata": {
        "id": "Vb0d917cowqh"
      }
    },
    {
      "cell_type": "markdown",
      "source": [
        "# **5. Implementación**"
      ],
      "metadata": {
        "id": "o9xiU8Oco8ml"
      }
    },
    {
      "cell_type": "markdown",
      "source": [
        "**5.1 Recopilación de Datos**\n",
        "Se diseñó un formulario interactivo para que los escritores ingresen sus preferencias de género literario, tema de interés y estilo narrativo. Esta información se utiliza para personalizar la generación de ideas y asegurar que el contenido sea relevante para el usuario.\n",
        "\n",
        "**5.2 Generación de Historias**\n",
        "Utilizando GPT-4, el sistema genera ideas narrativas basadas en las preferencias del usuario. Estas ideas incluyen tramas, personajes, y escenarios sugeridos."
      ],
      "metadata": {
        "id": "RMHm2cpepBau"
      }
    },
    {
      "cell_type": "code",
      "source": [
        "import openai\n",
        "\n",
        "openai.api_key = \"tu-api-key\"\n",
        "\n",
        "def generar_historia(genero, tema, longitud):\n",
        "    prompt = f\"Genera una historia {longitud} en el género {genero} centrada en el tema {tema}.\"\n",
        "\n",
        "    response = openai.ChatCompletion.create(\n",
        "        model=\"gpt-4\",\n",
        "        messages=[{\"role\": \"user\", \"content\": prompt}]\n",
        "    )\n",
        "\n",
        "    historia = response[\"choices\"][0][\"message\"][\"content\"]\n",
        "    return historia\n",
        "\n",
        "genero = \"fantasía\"\n",
        "tema = \"aventuras\"\n",
        "longitud = \"media\"\n",
        "\n",
        "historia_generada = generar_historia(genero, tema, longitud)\n",
        "print(historia_generada)"
      ],
      "metadata": {
        "id": "rEGDhgGdpJar"
      },
      "execution_count": null,
      "outputs": []
    },
    {
      "cell_type": "markdown",
      "source": [
        "**5.3 Generación de Ilustraciones**\n",
        "DALL-E se utiliza para crear imágenes que complementan las descripciones de los personajes y escenarios proporcionados por GPT-4. Las imágenes se generan a partir de prompts detallados que describen elementos clave de la narrativa.\n",
        "\n",
        "**5.4 Evaluación y Refinamiento**\n",
        "Las historias e ilustraciones generadas se revisan para asegurar que cumplan con las expectativas de los usuarios. Se realizan ajustes adicionales según sea necesario para mejorar la cohesión entre el texto y las imágenes."
      ],
      "metadata": {
        "id": "0XwkIT2-pKPL"
      }
    },
    {
      "cell_type": "markdown",
      "source": [
        "# **6. Resultados**\n"
      ],
      "metadata": {
        "id": "HpSyt1FkpRUQ"
      }
    },
    {
      "cell_type": "markdown",
      "source": [
        "El sistema desarrollado fue capaz de generar múltiples historias y sus correspondientes ilustraciones, proporcionando a los escritores herramientas efectivas para superar bloqueos creativos y enriquecer visualmente sus textos."
      ],
      "metadata": {
        "id": "BSXXwYxRpTrV"
      }
    },
    {
      "cell_type": "markdown",
      "source": [
        "# **7. Conclusiones**"
      ],
      "metadata": {
        "id": "L9PHN8EopVX0"
      }
    },
    {
      "cell_type": "markdown",
      "source": [
        "Este proyecto demuestra que es posible utilizar la inteligencia artificial para asistir a los escritores en su proceso creativo, facilitando la generación de ideas y la creación de recursos visuales que complementan sus historias. La viabilidad técnica del proyecto, junto con su relevancia para la comunidad de escritores, hacen que esta solución sea una propuesta sólida y prometedora para su implementación."
      ],
      "metadata": {
        "id": "kleb6SMYpXGo"
      }
    },
    {
      "cell_type": "markdown",
      "source": [
        "# **8. Referencias**"
      ],
      "metadata": {
        "id": "bpoo0duXpYeg"
      }
    },
    {
      "cell_type": "markdown",
      "source": [
        "OpenAI. \"API Reference.\" OpenAI, 2023. https://beta.openai.com/docs/\n",
        "\"Python Documentation.\" Python.org, 2023. https://docs.python.org/3/"
      ],
      "metadata": {
        "id": "gI2epZ5CpbtW"
      }
    }
  ]
}